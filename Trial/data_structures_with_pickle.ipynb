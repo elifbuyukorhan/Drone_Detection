{
 "cells": [
  {
   "cell_type": "markdown",
   "id": "14a322f8",
   "metadata": {},
   "source": [
    "### Lists"
   ]
  },
  {
   "cell_type": "code",
   "execution_count": 2,
   "id": "03d1efba",
   "metadata": {
    "ExecuteTime": {
     "start_time": "2023-07-13T07:50:38.861Z"
    }
   },
   "outputs": [],
   "source": [
    "import pickle \n",
    "student_names = ['Alice','Bob','Elena','Jane','Kyle']"
   ]
  },
  {
   "cell_type": "code",
   "execution_count": 3,
   "id": "1261f029",
   "metadata": {},
   "outputs": [],
   "source": [
    "with open('student_file.pkl', 'wb') as f:  # open a text file\n",
    "    pickle.dump(student_names, f) # serialize the list"
   ]
  },
  {
   "cell_type": "code",
   "execution_count": 4,
   "id": "7efdafac",
   "metadata": {},
   "outputs": [],
   "source": [
    "f.close()"
   ]
  },
  {
   "cell_type": "code",
   "execution_count": 5,
   "id": "02273df7",
   "metadata": {},
   "outputs": [
    {
     "name": "stdout",
     "output_type": "stream",
     "text": [
      "['Alice', 'Bob', 'Elena', 'Jane', 'Kyle']\n"
     ]
    }
   ],
   "source": [
    "with open('student_file.pkl', 'rb') as f:\n",
    "\n",
    "    student_names_loaded = pickle.load(f) # deserialize using load()\n",
    "    print(student_names_loaded) # print student names"
   ]
  },
  {
   "cell_type": "code",
   "execution_count": 6,
   "id": "0eeae2bc",
   "metadata": {},
   "outputs": [
    {
     "data": {
      "text/plain": [
       "list"
      ]
     },
     "execution_count": 6,
     "metadata": {},
     "output_type": "execute_result"
    }
   ],
   "source": [
    "type(student_names_loaded)"
   ]
  },
  {
   "cell_type": "markdown",
   "id": "cd4967fb",
   "metadata": {},
   "source": [
    "### Numpy Arrays"
   ]
  },
  {
   "cell_type": "code",
   "execution_count": 7,
   "id": "704b498e",
   "metadata": {},
   "outputs": [],
   "source": [
    "import numpy as np\n",
    "numpy_array = np.ones((10,10)) # 10x10 array"
   ]
  },
  {
   "cell_type": "code",
   "execution_count": 8,
   "id": "cd4cd386",
   "metadata": {},
   "outputs": [],
   "source": [
    "with open('my_array.pkl','wb') as f:\n",
    "    pickle.dump(numpy_array, f)"
   ]
  },
  {
   "cell_type": "code",
   "execution_count": 9,
   "id": "de2f8340",
   "metadata": {},
   "outputs": [
    {
     "name": "stdout",
     "output_type": "stream",
     "text": [
      "Array shape: (10, 10)\n",
      "Data type: <class 'numpy.ndarray'>\n"
     ]
    }
   ],
   "source": [
    "with open('my_array.pkl','rb') as f:\n",
    "    unpickled_array = pickle.load(f)\n",
    "    print('Array shape: '+str(unpickled_array.shape))\n",
    "    print('Data type: '+str(type(unpickled_array)))"
   ]
  },
  {
   "cell_type": "markdown",
   "id": "4436eeca",
   "metadata": {},
   "source": [
    "### pandas DataFrame"
   ]
  },
  {
   "cell_type": "code",
   "execution_count": 10,
   "id": "faa8ec75",
   "metadata": {},
   "outputs": [],
   "source": [
    "import pandas as pd\n",
    "import numpy as np\n",
    "\n",
    "# Set random seed\n",
    "np.random.seed(123)\n",
    "\n",
    "data = {'Column1': np.random.randint(0, 10, size=100000),\n",
    "        'Column2': np.random.choice(['A', 'B', 'C'], size=100000),\n",
    "        'Column3': np.random.rand(100000)}\n",
    "\n",
    "\n",
    "# Create Pandas dataframe\n",
    "df = pd.DataFrame(data)"
   ]
  },
  {
   "cell_type": "code",
   "execution_count": 14,
   "id": "b1125e06",
   "metadata": {},
   "outputs": [
    {
     "name": "stdout",
     "output_type": "stream",
     "text": [
      "0.31750035285949707\n"
     ]
    }
   ],
   "source": [
    "import time\n",
    "\n",
    "start = time.time()\n",
    "\n",
    "df.to_csv('my_pandas_dataframe.csv')\n",
    "\n",
    "end = time.time()\n",
    "print(end - start)"
   ]
  },
  {
   "cell_type": "code",
   "execution_count": 12,
   "id": "487f5117",
   "metadata": {},
   "outputs": [
    {
     "name": "stdout",
     "output_type": "stream",
     "text": [
      "0.01307988166809082\n"
     ]
    }
   ],
   "source": [
    "start = time.time()\n",
    "\n",
    "\n",
    "df.to_pickle(\"my_pandas_dataframe.pkl\")\n",
    "\n",
    "\n",
    "end = time.time()\n",
    "print(end - start)"
   ]
  },
  {
   "cell_type": "code",
   "execution_count": 15,
   "id": "8abae50f",
   "metadata": {},
   "outputs": [
    {
     "name": "stdout",
     "output_type": "stream",
     "text": [
      "Time taken to read the csv file: 0.05666756629943848\n",
      "\n",
      "Time taken to read the Pickle file: 0.0042002201080322266\n"
     ]
    }
   ],
   "source": [
    "# Reading the csv file into Pandas:\n",
    "\n",
    "start1 = time.time()\n",
    "df_csv = pd.read_csv(\"my_pandas_dataframe.csv\")\n",
    "end1 = time.time()\n",
    "print(\"Time taken to read the csv file: \" + str(end1 - start1) + \"\\n\")\n",
    "\n",
    "# Reading the Pickle file into Pandas:\n",
    "\n",
    "start2 = time.time()\n",
    "df_pkl = pd.read_pickle(\"my_pandas_dataframe.pkl\")\n",
    "end2 = time.time()\n",
    "print(\"Time taken to read the Pickle file: \" + str(end2 - start2))"
   ]
  },
  {
   "cell_type": "markdown",
   "id": "eee728f7",
   "metadata": {},
   "source": [
    "### Dictionaries"
   ]
  },
  {
   "cell_type": "code",
   "execution_count": 16,
   "id": "b28401c2",
   "metadata": {},
   "outputs": [],
   "source": [
    "students = {\n",
    "  'Student 1': {\n",
    "        'Name': \"Alice\", 'Age' :10, 'Grade':4,\n",
    "    },\n",
    "   \n",
    "    'Student 2': {\n",
    "        'Name':'Bob', 'Age':11, 'Grade':5\n",
    "    },\n",
    "   \n",
    "    'Student 3': {\n",
    "        'Name':'Elena', 'Age':14, 'Grade':8\n",
    "    }\n",
    "}"
   ]
  },
  {
   "cell_type": "code",
   "execution_count": 17,
   "id": "02be5ced",
   "metadata": {},
   "outputs": [
    {
     "name": "stdout",
     "output_type": "stream",
     "text": [
      "{'Student 1': {'Name': 'Alice', 'Age': 10, 'Grade': 4}, 'Student 2': {'Name': 'Bob', 'Age': 11, 'Grade': 5}, 'Student 3': {'Name': 'Elena', 'Age': 14, 'Grade': 8}}\n"
     ]
    }
   ],
   "source": [
    "# serialize the dictionary to a pickle file\n",
    "\n",
    "with open(\"student_dict.pkl\", \"wb\") as f:\n",
    "    pickle.dump(students, f)\n",
    "   \n",
    "# deserialize the dictionary and print it out\n",
    "\n",
    "with open(\"student_dict.pkl\", \"rb\") as f:\n",
    "    deserialized_dict = pickle.load(f)\n",
    "    print(deserialized_dict)"
   ]
  },
  {
   "cell_type": "code",
   "execution_count": 18,
   "id": "2292d375",
   "metadata": {},
   "outputs": [
    {
     "data": {
      "text/plain": [
       "dict"
      ]
     },
     "execution_count": 18,
     "metadata": {},
     "output_type": "execute_result"
    }
   ],
   "source": [
    "type(deserialized_dict)"
   ]
  },
  {
   "cell_type": "code",
   "execution_count": 19,
   "id": "68e9ef74",
   "metadata": {},
   "outputs": [
    {
     "name": "stdout",
     "output_type": "stream",
     "text": [
      "The first student's name is Alice and she is 10 years old.\n"
     ]
    }
   ],
   "source": [
    "print(\n",
    "    \"The first student's name is \"\n",
    "    + deserialized_dict[\"Student 1\"][\"Name\"]\n",
    "    + \" and she is \"\n",
    "    + (str(deserialized_dict[\"Student 1\"][\"Age\"]))\n",
    "    + \" years old.\"\n",
    ")"
   ]
  },
  {
   "cell_type": "markdown",
   "id": "dbd1519d",
   "metadata": {},
   "source": [
    "### Serializing Machine Learning Models with Pickle"
   ]
  },
  {
   "cell_type": "code",
   "execution_count": 20,
   "id": "ef37a635",
   "metadata": {},
   "outputs": [
    {
     "data": {
      "text/html": [
       "<style>#sk-container-id-1 {color: black;background-color: white;}#sk-container-id-1 pre{padding: 0;}#sk-container-id-1 div.sk-toggleable {background-color: white;}#sk-container-id-1 label.sk-toggleable__label {cursor: pointer;display: block;width: 100%;margin-bottom: 0;padding: 0.3em;box-sizing: border-box;text-align: center;}#sk-container-id-1 label.sk-toggleable__label-arrow:before {content: \"▸\";float: left;margin-right: 0.25em;color: #696969;}#sk-container-id-1 label.sk-toggleable__label-arrow:hover:before {color: black;}#sk-container-id-1 div.sk-estimator:hover label.sk-toggleable__label-arrow:before {color: black;}#sk-container-id-1 div.sk-toggleable__content {max-height: 0;max-width: 0;overflow: hidden;text-align: left;background-color: #f0f8ff;}#sk-container-id-1 div.sk-toggleable__content pre {margin: 0.2em;color: black;border-radius: 0.25em;background-color: #f0f8ff;}#sk-container-id-1 input.sk-toggleable__control:checked~div.sk-toggleable__content {max-height: 200px;max-width: 100%;overflow: auto;}#sk-container-id-1 input.sk-toggleable__control:checked~label.sk-toggleable__label-arrow:before {content: \"▾\";}#sk-container-id-1 div.sk-estimator input.sk-toggleable__control:checked~label.sk-toggleable__label {background-color: #d4ebff;}#sk-container-id-1 div.sk-label input.sk-toggleable__control:checked~label.sk-toggleable__label {background-color: #d4ebff;}#sk-container-id-1 input.sk-hidden--visually {border: 0;clip: rect(1px 1px 1px 1px);clip: rect(1px, 1px, 1px, 1px);height: 1px;margin: -1px;overflow: hidden;padding: 0;position: absolute;width: 1px;}#sk-container-id-1 div.sk-estimator {font-family: monospace;background-color: #f0f8ff;border: 1px dotted black;border-radius: 0.25em;box-sizing: border-box;margin-bottom: 0.5em;}#sk-container-id-1 div.sk-estimator:hover {background-color: #d4ebff;}#sk-container-id-1 div.sk-parallel-item::after {content: \"\";width: 100%;border-bottom: 1px solid gray;flex-grow: 1;}#sk-container-id-1 div.sk-label:hover label.sk-toggleable__label {background-color: #d4ebff;}#sk-container-id-1 div.sk-serial::before {content: \"\";position: absolute;border-left: 1px solid gray;box-sizing: border-box;top: 0;bottom: 0;left: 50%;z-index: 0;}#sk-container-id-1 div.sk-serial {display: flex;flex-direction: column;align-items: center;background-color: white;padding-right: 0.2em;padding-left: 0.2em;position: relative;}#sk-container-id-1 div.sk-item {position: relative;z-index: 1;}#sk-container-id-1 div.sk-parallel {display: flex;align-items: stretch;justify-content: center;background-color: white;position: relative;}#sk-container-id-1 div.sk-item::before, #sk-container-id-1 div.sk-parallel-item::before {content: \"\";position: absolute;border-left: 1px solid gray;box-sizing: border-box;top: 0;bottom: 0;left: 50%;z-index: -1;}#sk-container-id-1 div.sk-parallel-item {display: flex;flex-direction: column;z-index: 1;position: relative;background-color: white;}#sk-container-id-1 div.sk-parallel-item:first-child::after {align-self: flex-end;width: 50%;}#sk-container-id-1 div.sk-parallel-item:last-child::after {align-self: flex-start;width: 50%;}#sk-container-id-1 div.sk-parallel-item:only-child::after {width: 0;}#sk-container-id-1 div.sk-dashed-wrapped {border: 1px dashed gray;margin: 0 0.4em 0.5em 0.4em;box-sizing: border-box;padding-bottom: 0.4em;background-color: white;}#sk-container-id-1 div.sk-label label {font-family: monospace;font-weight: bold;display: inline-block;line-height: 1.2em;}#sk-container-id-1 div.sk-label-container {text-align: center;}#sk-container-id-1 div.sk-container {/* jupyter's `normalize.less` sets `[hidden] { display: none; }` but bootstrap.min.css set `[hidden] { display: none !important; }` so we also need the `!important` here to be able to override the default hidden behavior on the sphinx rendered scikit-learn.org. See: https://github.com/scikit-learn/scikit-learn/issues/21755 */display: inline-block !important;position: relative;}#sk-container-id-1 div.sk-text-repr-fallback {display: none;}</style><div id=\"sk-container-id-1\" class=\"sk-top-container\"><div class=\"sk-text-repr-fallback\"><pre>LinearRegression()</pre><b>In a Jupyter environment, please rerun this cell to show the HTML representation or trust the notebook. <br />On GitHub, the HTML representation is unable to render, please try loading this page with nbviewer.org.</b></div><div class=\"sk-container\" hidden><div class=\"sk-item\"><div class=\"sk-estimator sk-toggleable\"><input class=\"sk-toggleable__control sk-hidden--visually\" id=\"sk-estimator-id-1\" type=\"checkbox\" checked><label for=\"sk-estimator-id-1\" class=\"sk-toggleable__label sk-toggleable__label-arrow\">LinearRegression</label><div class=\"sk-toggleable__content\"><pre>LinearRegression()</pre></div></div></div></div></div>"
      ],
      "text/plain": [
       "LinearRegression()"
      ]
     },
     "execution_count": 20,
     "metadata": {},
     "output_type": "execute_result"
    }
   ],
   "source": [
    "from sklearn.linear_model import LinearRegression\n",
    "from sklearn.datasets import make_regression\n",
    "\n",
    "# generate regression dataset\n",
    "X, y = make_regression(n_samples=100, n_features=3, noise=0.1, random_state=1)\n",
    "\n",
    "# train regression model\n",
    "linear_model = LinearRegression()\n",
    "linear_model.fit(X, y)"
   ]
  },
  {
   "cell_type": "code",
   "execution_count": 21,
   "id": "1f9648c9",
   "metadata": {},
   "outputs": [
    {
     "name": "stdout",
     "output_type": "stream",
     "text": [
      "Model intercept : -0.010109549594691458\n",
      "Model coefficients :  [44.18793068 98.97389468 58.17121618]\n",
      "Model score :  0.9999993081899219\n"
     ]
    }
   ],
   "source": [
    "# summary of the model\n",
    "print('Model intercept :', linear_model.intercept_)\n",
    "print('Model coefficients : ', linear_model.coef_)\n",
    "print('Model score : ', linear_model.score(X, y))"
   ]
  },
  {
   "cell_type": "code",
   "execution_count": 22,
   "id": "10ba8514",
   "metadata": {},
   "outputs": [],
   "source": [
    "with open(\"linear_regression.pkl\", \"wb\") as f:\n",
    "    pickle.dump(linear_model, f)"
   ]
  },
  {
   "cell_type": "code",
   "execution_count": 23,
   "id": "be241b23",
   "metadata": {},
   "outputs": [],
   "source": [
    "with open(\"linear_regression.pkl\", \"rb\") as f:\n",
    "    unpickled_linear_model = pickle.load(f)"
   ]
  },
  {
   "cell_type": "code",
   "execution_count": 24,
   "id": "927707ac",
   "metadata": {},
   "outputs": [
    {
     "name": "stdout",
     "output_type": "stream",
     "text": [
      "Model intercept : -0.010109549594691458\n",
      "Model coefficients :  [44.18793068 98.97389468 58.17121618]\n",
      "Model score :  0.9999993081899219\n"
     ]
    }
   ],
   "source": [
    "# summary of the model\n",
    "print('Model intercept :', unpickled_linear_model.intercept_)\n",
    "print('Model coefficients : ', unpickled_linear_model.coef_)\n",
    "print('Model score : ', unpickled_linear_model.score(X, y))"
   ]
  }
 ],
 "metadata": {
  "kernelspec": {
   "display_name": "Python 3 (ipykernel)",
   "language": "python",
   "name": "python3"
  },
  "language_info": {
   "codemirror_mode": {
    "name": "ipython",
    "version": 3
   },
   "file_extension": ".py",
   "mimetype": "text/x-python",
   "name": "python",
   "nbconvert_exporter": "python",
   "pygments_lexer": "ipython3",
   "version": "3.8.13"
  },
  "toc": {
   "base_numbering": 1,
   "nav_menu": {},
   "number_sections": true,
   "sideBar": true,
   "skip_h1_title": false,
   "title_cell": "Table of Contents",
   "title_sidebar": "Contents",
   "toc_cell": false,
   "toc_position": {},
   "toc_section_display": true,
   "toc_window_display": false
  }
 },
 "nbformat": 4,
 "nbformat_minor": 5
}
